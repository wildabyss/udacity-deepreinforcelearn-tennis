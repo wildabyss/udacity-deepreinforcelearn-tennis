{
 "cells": [
  {
   "cell_type": "markdown",
   "metadata": {},
   "source": [
    "# Collaboration and Competition\n",
    "\n",
    "---\n",
    "\n",
    "In this notebook, you will learn how to use the Unity ML-Agents environment for the third project of the [Deep Reinforcement Learning Nanodegree](https://www.udacity.com/course/deep-reinforcement-learning-nanodegree--nd893) program.\n",
    "\n",
    "### 1. Start the Environment\n",
    "\n",
    "We begin by importing the necessary packages.  If the code cell below returns an error, please revisit the project instructions to double-check that you have installed [Unity ML-Agents](https://github.com/Unity-Technologies/ml-agents/blob/master/docs/Installation.md) and [NumPy](http://www.numpy.org/)."
   ]
  },
  {
   "cell_type": "code",
   "execution_count": 1,
   "metadata": {},
   "outputs": [],
   "source": [
    "# Restart kernel after this\n",
    "#!pip310 install ."
   ]
  },
  {
   "cell_type": "code",
   "execution_count": 2,
   "metadata": {},
   "outputs": [],
   "source": [
    "from unityagents import UnityEnvironment\n",
    "import numpy as np"
   ]
  },
  {
   "cell_type": "markdown",
   "metadata": {},
   "source": [
    "Next, we will start the environment!  **_Before running the code cell below_**, change the `file_name` parameter to match the location of the Unity environment that you downloaded.\n",
    "\n",
    "- **Mac**: `\"path/to/Tennis.app\"`\n",
    "- **Windows** (x86): `\"path/to/Tennis_Windows_x86/Tennis.exe\"`\n",
    "- **Windows** (x86_64): `\"path/to/Tennis_Windows_x86_64/Tennis.exe\"`\n",
    "- **Linux** (x86): `\"path/to/Tennis_Linux/Tennis.x86\"`\n",
    "- **Linux** (x86_64): `\"path/to/Tennis_Linux/Tennis.x86_64\"`\n",
    "- **Linux** (x86, headless): `\"path/to/Tennis_Linux_NoVis/Tennis.x86\"`\n",
    "- **Linux** (x86_64, headless): `\"path/to/Tennis_Linux_NoVis/Tennis.x86_64\"`\n",
    "\n",
    "For instance, if you are using a Mac, then you downloaded `Tennis.app`.  If this file is in the same folder as the notebook, then the line below should appear as follows:\n",
    "```\n",
    "env = UnityEnvironment(file_name=\"Tennis.app\")\n",
    "```"
   ]
  },
  {
   "cell_type": "code",
   "execution_count": 3,
   "metadata": {},
   "outputs": [
    {
     "name": "stderr",
     "output_type": "stream",
     "text": [
      "INFO:unityagents:\n",
      "'Academy' started successfully!\n",
      "Unity Academy name: Academy\n",
      "        Number of Brains: 1\n",
      "        Number of External Brains : 1\n",
      "        Lesson number : 0\n",
      "        Reset Parameters :\n",
      "\t\t\n",
      "Unity brain name: TennisBrain\n",
      "        Number of Visual Observations (per agent): 0\n",
      "        Vector Observation space type: continuous\n",
      "        Vector Observation space size (per agent): 8\n",
      "        Number of stacked Vector Observation: 3\n",
      "        Vector Action space type: continuous\n",
      "        Vector Action space size (per agent): 2\n",
      "        Vector Action descriptions: , \n"
     ]
    }
   ],
   "source": [
    "env = UnityEnvironment(file_name=\"Tennis_Windows_x86_64/Tennis.exe\", no_graphics=False)"
   ]
  },
  {
   "cell_type": "markdown",
   "metadata": {},
   "source": [
    "Environments contain **_brains_** which are responsible for deciding the actions of their associated agents. Here we check for the first brain available, and set it as the default brain we will be controlling from Python."
   ]
  },
  {
   "cell_type": "code",
   "execution_count": 4,
   "metadata": {},
   "outputs": [],
   "source": [
    "# get the default brain\n",
    "brain_name = env.brain_names[0]\n",
    "brain = env.brains[brain_name]"
   ]
  },
  {
   "cell_type": "markdown",
   "metadata": {},
   "source": [
    "### 2. Examine the State and Action Spaces\n",
    "\n",
    "In this environment, two agents control rackets to bounce a ball over a net. If an agent hits the ball over the net, it receives a reward of +0.1.  If an agent lets a ball hit the ground or hits the ball out of bounds, it receives a reward of -0.01.  Thus, the goal of each agent is to keep the ball in play.\n",
    "\n",
    "The observation space consists of 8 variables corresponding to the position and velocity of the ball and racket. One continuous action between [-1 and 1] corresponding to the speed approaching toward/retreating from the net, and one binary action corresponding to jumping, are available.\n",
    "\n",
    "Run the code cell below to print some information about the environment."
   ]
  },
  {
   "cell_type": "code",
   "execution_count": 5,
   "metadata": {},
   "outputs": [
    {
     "name": "stdout",
     "output_type": "stream",
     "text": [
      "Number of agents: 2\n",
      "Size of each action: 2\n",
      "There are 2 agents. Each observes a state with length: 24\n",
      "The state for the first agent looks like: [ 0.          0.          0.          0.          0.          0.\n",
      "  0.          0.          0.          0.          0.          0.\n",
      "  0.          0.          0.          0.         -6.65278625 -1.5\n",
      " -0.          0.          6.83172083  6.         -0.          0.        ]\n",
      "The state for the second agent looks like: [ 0.          0.          0.          0.          0.          0.\n",
      "  0.          0.          0.          0.          0.          0.\n",
      "  0.          0.          0.          0.         -6.4669857  -1.5\n",
      "  0.          0.         -6.83172083  6.          0.          0.        ]\n"
     ]
    }
   ],
   "source": [
    "# reset the environment\n",
    "env_info = env.reset(train_mode=True)[brain_name]\n",
    "\n",
    "# number of agents \n",
    "num_agents = len(env_info.agents)\n",
    "print('Number of agents:', num_agents)\n",
    "\n",
    "# size of each action\n",
    "action_size = brain.vector_action_space_size\n",
    "print('Size of each action:', action_size)\n",
    "\n",
    "# examine the state space \n",
    "states = env_info.vector_observations\n",
    "state_size = states.shape[1]\n",
    "print('There are {} agents. Each observes a state with length: {}'.format(states.shape[0], state_size))\n",
    "print('The state for the first agent looks like:', states[0])\n",
    "print('The state for the second agent looks like:', states[1])"
   ]
  },
  {
   "cell_type": "markdown",
   "metadata": {},
   "source": [
    "### 3. Take Random Actions in the Environment\n",
    "\n",
    "In the next code cell, you will learn how to use the Python API to control the agents and receive feedback from the environment.\n",
    "\n",
    "Once this cell is executed, you will watch the agents' performance, if they select actions at random with each time step.  A window should pop up that allows you to observe the agents.\n",
    "\n",
    "Of course, as part of the project, you'll have to change the code so that the agents are able to use their experiences to gradually choose better actions when interacting with the environment!"
   ]
  },
  {
   "cell_type": "code",
   "execution_count": 6,
   "metadata": {},
   "outputs": [],
   "source": [
    "SKIP_RANDOM = True\n",
    "\n",
    "if not SKIP_RANDOM:\n",
    "\n",
    "    for i in range(1, 6):                                      # play game for 5 episodes\n",
    "        env_info = env.reset(train_mode=False)[brain_name]     # reset the environment    \n",
    "        states = env_info.vector_observations                  # get the current state (for each agent)\n",
    "        scores = np.zeros(num_agents)                          # initialize the score (for each agent)\n",
    "        while True:\n",
    "            actions = np.random.rand(num_agents, action_size)*2-1   # All actions are between -1 and 1\n",
    "            env_info = env.step(actions)[brain_name]           # send all actions to tne environment\n",
    "            next_states = env_info.vector_observations         # get next state (for each agent)\n",
    "            rewards = env_info.rewards                         # get reward (for each agent)\n",
    "            dones = env_info.local_done                        # see if episode finished\n",
    "            scores += env_info.rewards                         # update the score (for each agent)\n",
    "            states = next_states                               # roll over states to next time step\n",
    "            if np.any(dones):                                  # exit loop if episode finished\n",
    "                break\n",
    "        print('Score (max over agents) from episode {}: {}'.format(i, np.max(scores)))\n"
   ]
  },
  {
   "cell_type": "markdown",
   "metadata": {},
   "source": [
    "### 4. Train with Deep Deterministic Policy Gradient (DDPG)\n",
    "\n",
    "Given that this game is collaborative in nature, fully deterministic and has a mixed continuous/binary action space, DDPG seems like a sensible candidate. The state space and action space from each player's perspective is mirrored, therefore a single Actor, Critic and replay buffer is used to provide action for both players. The agent engages in self play to train.\n",
    "\n",
    "The following points were instrumental in getting the training to succeed:\n",
    "\n",
    "1. Early exploration is extremely important to get a statistical representation of the value function. If the noise decays too fast, it results in poor learning. NOISE_SIGMA_START is set to 4 to encourage breaking out of early local minima. NOISE_SIGMA_DECAY is set to 0.9999. Instead of decaying per episode, I elected to decay the noise per step, since a long play with many steps is a sign that the learn is succeeding and the noise should decay accordingly.\n",
    "2. Different from the previous project where the update frequency had to be low in order to stabilize the learn, I found that having a very fast update frequency can much more readily stabilize this project. I elected to train per agent action as well, which results in 2 training steps per environment step.\n",
    "3. The REPLAY_BATCH_SIZE must not be too big.\n",
    "4. I had to set WEIGHT_DECAY to 0 in order for training scores to increase to meaningful values. It's possible 1e-4 is too big and a smaller value would work better."
   ]
  },
  {
   "cell_type": "code",
   "execution_count": 7,
   "metadata": {},
   "outputs": [],
   "source": [
    "from collections import deque\n",
    "import torch\n",
    "from learner.ddpg_agent import Agent\n",
    "import matplotlib.pyplot as plt\n",
    "%matplotlib inline"
   ]
  },
  {
   "cell_type": "code",
   "execution_count": 8,
   "metadata": {},
   "outputs": [],
   "source": [
    "# Hyperparameters\n",
    "\n",
    "REPLAY_BUFFER_SIZE = int(1e6)   # replay buffer size\n",
    "REPLAY_BATCH_SIZE = int(50)     # minibatch size\n",
    "FUTURE_DISCOUNT = 0.99          # discount factor\n",
    "SOFT_UPDATE_RATE = 1e-3         # soft update rate\n",
    "LR_ACTOR = 1e-4                 # learning rate of the actor \n",
    "LR_CRITIC = 3e-4                # learning rate of the critic\n",
    "WEIGHT_DECAY = 0.0              # L2 weight decay\n",
    "UPDATE_FREQ = 1                 # Learn frequency in iterations\n",
    "UPDATE_EVERY = True             # If true, learn once for every agent\n",
    "\n",
    "USE_TWO_MEMS = True            # Whether to separately sample good vs bad experiences\n",
    "BAD_MEM_RATIO = 0.2\n",
    "UNIFORM_SAMPLE_MIN_SCORE = 50   # Minimum score above which we revert to sampling good and bad experiences uniformly\n",
    "\n",
    "ADD_NOISE = True                # Whether to add OU noise\n",
    "NOISE_SIGMA_START = 4           # Start of the OU noise random walk magnitude\n",
    "NOISE_SIGMA_DECAY = 0.9999      # Decay rate of the OU random walk\n",
    "NOISE_SIGMA_MIN = 0.01          # Minimum of the OU random walk\n",
    "\n",
    "N_EPISODES = 1250\n",
    "VICTORY_SCORE = 0.5"
   ]
  },
  {
   "cell_type": "code",
   "execution_count": 9,
   "metadata": {},
   "outputs": [
    {
     "name": "stdout",
     "output_type": "stream",
     "text": [
      "Episode 100\tAverage Score: 0.017\tScore: 0.000\n",
      "Episode 200\tAverage Score: 0.009\tScore: 0.000\n",
      "Episode 300\tAverage Score: 0.017\tScore: 0.000\n",
      "Episode 400\tAverage Score: 0.015\tScore: 0.000\n",
      "Episode 500\tAverage Score: 0.028\tScore: 0.100\n",
      "Episode 600\tAverage Score: 0.031\tScore: 0.000\n",
      "Episode 700\tAverage Score: 0.033\tScore: 0.100\n",
      "Episode 800\tAverage Score: 0.049\tScore: 0.000\n",
      "Episode 900\tAverage Score: 0.066\tScore: 0.000\n",
      "Episode 1000\tAverage Score: 0.098\tScore: 0.000\n",
      "Episode 1100\tAverage Score: 0.267\tScore: 0.090\n",
      "Episode 1117\tAverage Score: 0.519\tScore: 2.600\n",
      "Environment solved in 1017 episodes!\tAverage Score: 0.519\n",
      "Episode 1200\tAverage Score: 1.486\tScore: 2.700\n",
      "Episode 1249\tAverage Score: 1.629\tScore: 2.300"
     ]
    },
    {
     "data": {
      "image/png": "[encoded data removed]",
      "text/plain": [
       "<Figure size 640x480 with 1 Axes>"
      ]
     },
     "metadata": {},
     "output_type": "display_data"
    }
   ],
   "source": [
    "agent = Agent(state_size, action_size, random_seed=42, \n",
    "              replay_buffer_size=REPLAY_BUFFER_SIZE, replay_batch_size=REPLAY_BATCH_SIZE, future_discount=FUTURE_DISCOUNT, soft_update_rate=SOFT_UPDATE_RATE, \n",
    "              lr_actor=LR_ACTOR, lr_critic=LR_CRITIC, weight_decay=WEIGHT_DECAY, add_noise=ADD_NOISE, use_two_mems=USE_TWO_MEMS, bad_mem_ratio=BAD_MEM_RATIO)\n",
    "\n",
    "scores = []                        # list containing scores from each episode\n",
    "scores_window = deque(maxlen=100)  # last 100 scores\n",
    "uniform_sampling = False\n",
    "noise_sigma = NOISE_SIGMA_START\n",
    "solved = False\n",
    "count = 0\n",
    "training = True\n",
    "\n",
    "for i_episode in range(1,N_EPISODES):\n",
    "    env_info = env.reset(train_mode=True)[brain_name]\n",
    "    states = env_info.vector_observations\n",
    "    total_rewards = np.zeros(num_agents)\n",
    "\n",
    "    # Reset noise\n",
    "    agent.reset()\n",
    "\n",
    "    while True:\n",
    "        # Get agent's action per policy\n",
    "        actions = agent.act(states, noise_sigma)\n",
    "\n",
    "        # Noise helps with exploration, but needs to decay\n",
    "        noise_sigma = max(NOISE_SIGMA_MIN, noise_sigma*NOISE_SIGMA_DECAY)\n",
    "\n",
    "        # Apply agent's action to env\n",
    "        env_info = env.step(actions)[brain_name]\n",
    "        next_states = env_info.vector_observations     # get the next state\n",
    "        rewards = env_info.rewards                     # get the reward\n",
    "        dones = env_info.local_done                    # see if episode has finished\n",
    "\n",
    "        # Agent remembers and learns\n",
    "        # Only learn once per 2 time steps\n",
    "        count = (count + 1) % UPDATE_FREQ\n",
    "        for i in range(num_agents):\n",
    "            perform_learn = (count == 0) and (UPDATE_EVERY or i>=num_agents-1)\n",
    "            agent.step(states[i], actions[i], rewards[i], next_states[i], dones[i], perform_learn, uniform_sampling)\n",
    "\n",
    "        states = next_states\n",
    "        total_rewards += rewards\n",
    "\n",
    "        if np.any(dones):\n",
    "            break    \n",
    "    \n",
    "    max_total_reward = np.max(total_rewards)\n",
    "    scores_window.append(max_total_reward)       # save most recent score\n",
    "    scores.append(max_total_reward)              # save most recent score\n",
    "    mean_score = np.mean(scores_window)\n",
    "\n",
    "    print('\\rEpisode {}\\tAverage Score: {:.3f}\\tScore: {:.3f}'.format(i_episode, mean_score, max_total_reward), end=\"\")\n",
    "\n",
    "    if i_episode % 100 == 0:\n",
    "        print('\\rEpisode {}\\tAverage Score: {:.3f}'.format(i_episode, mean_score))\n",
    "\n",
    "    if mean_score >= VICTORY_SCORE and not solved:\n",
    "        solved = True\n",
    "        print('\\nEnvironment solved in {:d} episodes!\\tAverage Score: {:.3f}'.format(i_episode-100, mean_score))\n",
    "        torch.save(agent.actor_local.state_dict(), 'trained_weights/solved_actor.pt')\n",
    "        torch.save(agent.critic_local.state_dict(), 'trained_weights/solved_critic.pt')\n",
    "\n",
    "    # Latch uniform sampling once score has reached certain threshold\n",
    "    uniform_sampling = np.mean(scores_window) >= UNIFORM_SAMPLE_MIN_SCORE or uniform_sampling\n",
    "\n",
    "torch.save(agent.actor_local.state_dict(), 'trained_weights/termination_actor.pt')\n",
    "torch.save(agent.critic_local.state_dict(), 'trained_weights/termination_critic.pt')\n",
    "\n",
    "# plot the scores\n",
    "fig = plt.figure()\n",
    "ax = fig.add_subplot(111)\n",
    "plt.plot(np.arange(len(scores)), scores)\n",
    "plt.ylabel('Score')\n",
    "plt.xlabel('Episode #')\n",
    "plt.savefig('plots/Scores.png')\n",
    "\n",
    "env.close()"
   ]
  },
  {
   "cell_type": "markdown",
   "metadata": {},
   "source": [
    "### 4. Watch the Smart Agent\n",
    "\n",
    "Restart kernel if running this right after training to reload Unity."
   ]
  },
  {
   "cell_type": "code",
   "execution_count": 10,
   "metadata": {},
   "outputs": [],
   "source": [
    "from unityagents import UnityEnvironment\n",
    "from learner.ddpg_agent import Agent\n",
    "import numpy as np\n",
    "import torch\n",
    "\n",
    "if 'training' not in vars() or not training:\n",
    "\n",
    "    env = UnityEnvironment(file_name='Tennis_Windows_x86_64/Tennis.exe', no_graphics=False, worker_id = 100, seed = 70)\n",
    "    brain_name = env.brain_names[0]\n",
    "    brain = env.brains[brain_name]\n",
    "    env_info = env.reset(train_mode=False)[brain_name]\n",
    "    states = env_info.vector_observations\n",
    "\n",
    "    num_agents = len(env_info.agents)\n",
    "    action_size = brain.vector_action_space_size\n",
    "    state_size = states.shape[1]\n",
    "    agent = Agent(state_size, action_size, add_noise=False)\n",
    "    agent.actor_local.load_state_dict(torch.load('trained_weights/termination_actor.pt'))\n",
    "    agent.critic_local.load_state_dict(torch.load('trained_weights/termination_critic.pt'))\n",
    "\n",
    "    total_rewards = np.zeros(num_agents)\n",
    "    while True:\n",
    "        actions = agent.act(states)\n",
    "        env_info = env.step(actions)[brain_name]\n",
    "        states = env_info.vector_observations\n",
    "        dones = env_info.local_done\n",
    "        total_rewards += env_info.rewards\n",
    "        if np.any(dones):\n",
    "            break \n",
    "                \n",
    "    print('\\rScore: {:.2f}'.format(np.max(total_rewards)))\n",
    "    env.close()"
   ]
  }
 ],
 "metadata": {
  "kernelspec": {
   "display_name": "Python 3",
   "language": "python",
   "name": "python3"
  },
  "language_info": {
   "codemirror_mode": {
    "name": "ipython",
    "version": 3
   },
   "file_extension": ".py",
   "mimetype": "text/x-python",
   "name": "python",
   "nbconvert_exporter": "python",
   "pygments_lexer": "ipython3",
   "version": "3.10.0rc2"
  }
 },
 "nbformat": 4,
 "nbformat_minor": 2
}
